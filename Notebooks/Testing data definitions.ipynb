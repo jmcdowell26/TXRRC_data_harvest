{
 "cells": [
  {
   "cell_type": "markdown",
   "metadata": {},
   "source": [
    "# Notebook to test the layouts for each section\n",
    "This notebook opens and reads teh dbf900.ebc.gz file then starts to parse the data from each section <br><br>\n",
    "The decode, parse, and layout calls have been added to ensure this notebook is pulling from the same definitions and processes that are being used in the main program. (Minimizing all the places the definitions need to be updated.)"
   ]
  },
  {
   "cell_type": "markdown",
   "metadata": {},
   "source": [
    "## Import, read, and convert file to array of strings"
   ]
  },
  {
   "cell_type": "code",
   "execution_count": 1,
   "metadata": {},
   "outputs": [],
   "source": [
    "import pandas as pd\n",
    "import codecs\n",
    "\n",
    "##Import section to ensure the main directory is in the path\n",
    "import sys\n",
    "import os\n",
    "module_path = os.path.abspath(os.path.join('..'))\n",
    "if module_path not in sys.path:\n",
    "    sys.path.append(module_path)\n",
    "\n",
    "## Importing from the main directory now\n",
    "from dbf900_main import decode_file, parse_record\n",
    "from dbf900_layouts import dbf900_layout"
   ]
  },
  {
   "cell_type": "markdown",
   "metadata": {},
   "source": [
    "### Import file location, block size and file decoding script called\n",
    "\n",
    "#### from dbf900_main import decode_file\n",
    "opens the file, decodes, and splits the records into an array based on the block_size length<br><br>\n",
    ".py file with decode_file def: https://github.com/mlbelobraydi/TXRRC_data_harvest/blob/master/dbf900_main.py"
   ]
  },
  {
   "cell_type": "code",
   "execution_count": 2,
   "metadata": {},
   "outputs": [
    {
     "name": "stdout",
     "output_type": "stream",
     "text": [
      "opening C:\\PublicData\\Texas\\TXRRC\\index\\dbf900.ebc\n",
      "decoding...\n",
      "separating records...\n",
      "returning records...\n",
      "array ready for review and parsing.\n"
     ]
    }
   ],
   "source": [
    "file = r'C:\\PublicData\\Texas\\TXRRC\\index\\dbf900.ebc' ##Local storage location\n",
    "##file origin: ftp://ftpe.rrc.texas.gov/shfwba/dbf900.ebc.gz\n",
    "\n",
    "block_size  = 247 ##block size for each record in the file\n",
    "##Unknown if this holds true for all versions of this file or for other files on TXRRC\n",
    "\n",
    "##file and block size sent to decode and return record array    \n",
    "split_records = decode_file(file,block_size)\n",
    "##the records in this array have a leading two character code to\n",
    "##know how it should be split apart and treated.\n",
    "print('array ready for review and parsing.')"
   ]
  },
  {
   "cell_type": "code",
   "execution_count": 3,
   "metadata": {},
   "outputs": [
    {
     "data": {
      "text/plain": [
       "['0100100001010106001 19631027000000000000000000000000000 000000000010000100000000000000  NNN00000000Y0 13A19930900000019931022199602L0040230000000199801000000Y 00000000                                                                                ',\n",
       " '02O0604411   1  00      000000000000000000000                                          0000000000000000000000000000000000N0000000     00000          0000  NN00000000                                                                                  ',\n",
       " '038015988719840112        NNNNN1963120519631027000000000000000000      00000        N0000  00000000                                                                                                                                                    ',\n",
       " '0600100000000000000000000000000000S000000        0000000000000000000000000000000000000000000000000000000                                                                                                                                               ',\n",
       " '070010402104023                                                                                                                                                                                                                                        ',\n",
       " '2379809072A8305892021010616481001O19631027 O04411   1  00000020191125000475F000830S  00                    20200106  2020010600000000    Y                                                                                                             ',\n",
       " '2400101/06/2020 APPROVED                                                   0000000                                                                                                                                                                     ',\n",
       " '2379819072A8305892020010616481001O19631027 O04411   1  00000020181126000475F000830S  00                    20190117  2019011700000000    Y                                                                                                             ',\n",
       " '2400101/17/2019 APPROVED                                                   0000000                                                                                                                                                                     ',\n",
       " '2379829071A8305892019010616481001O19631027 O04411   1  00000020171228000475F000810S  00                    20180118  2018011800000000    Y                                                                                                             ',\n",
       " '2400101/18/2018 APPROVED                                                   0000000                                                                                                                                                                     ',\n",
       " '2379839070A6998482018010616481001O19631027 O04411   1  00000020170102000475F000771S  00                    20170214  2017021420170202D   Y                                                                                                             ',\n",
       " '2400102022017 DELINQUENT                                                   0000000                                                                                                                                                                     ',\n",
       " '2400202/14/2017 APPROVED                                                   0000000                                                                                                                                                                     ',\n",
       " '2379859072C6998482016010616481001O19631027 O04411   1  00000020141229000600F000769S  00                    20160518  2015011220160518N   Y                                                                                                             ',\n",
       " '2400101/12/2015 PENDING - REFER TO DISTRICT                                0000000                                                                                                                                                                     ',\n",
       " '24002ON 04/22/2015 AN H-15 WAS NOT APPROVED BY OGFKMKV  FROM DISTRICT 06   0000000                                                                                                                                                                     ',\n",
       " '24003ON 06/18/2015 AN EXTENSION WAS GIVEN THAT WILL EXPIRE ON 07/18/2015   0000000                                                                                                                                                                     ',\n",
       " '24004ON 08/18/2015 AN EXTENSION WAS GIVEN THAT WILL EXPIRE ON 10/18/2015   0000000                                                                                                                                                                     ',\n",
       " '24005ON 11/18/2015 AN EXTENSION WAS GIVEN THAT WILL EXPIRE ON 01/18/2016   0000000                                                                                                                                                                     ',\n",
       " '2400605/18/2016 COMPLIANT                                                  0000000                                                                                                                                                                     ',\n",
       " '2379869073A6998482015010616481001O19631027 O04411   1  00000020131227000600F000770S  00                    20140117  2014011720140117P   Y                                                                                                             ',\n",
       " '2400101/17/2014 PENDING - REFER TO DISTRICT                                0000000                                                                                                                                                                     ',\n",
       " '24002ON 01/17/2014 AN H-15 WAS   APPROVED   BY OGFKMTB  FROM DISTRICT 06   0000000                                                                                                                                                                     ',\n",
       " '2379879072A6998482014010616481001O19631027 O04411   1  00000020121228000600F000768S  00                    20130208  2013013120130208P   Y                                                                                                             ',\n",
       " '2400101/31/2013 PENDING - REFER TO DISTRICT                                0000000                                                                                                                                                                     ',\n",
       " '24002ON 02/08/2013 AN H-15 WAS   APPROVED   BY OGFKMTB  FROM DISTRICT 06   0000000                                                                                                                                                                     ',\n",
       " '2379889070A6998482013010616481001O19631027 O04411   1  00000020111230000600F000773S  00                    20120113  2012011020120113P   Y                                                                                                             ',\n",
       " '2400101/10/2012 PENDING - REFER TO DISTRICT                                0000000                                                                                                                                                                     ',\n",
       " '24002ON 01/13/2012 AN H-15 WAS   APPROVED   BY OGFKMTB  FROM DISTRICT 06   0000000                                                                                                                                                                     ',\n",
       " '2379969870A2248302004050616481001C19631027 O04411   1  00000020110417000600F000778S  00                    20110421  2003073020110421P  0000000000000000                                                                                               ',\n",
       " '2400107072003 DELINQUENT                                                   0000000                                                                                                                                                                     ',\n",
       " '2400207/30/2003 A PROJECT EXT/NO TEST WAS GRANTED, EXPIRING ON 10/30/2003  0000000                                                                                                                                                                     ',\n",
       " '2400310/30/2003 H15 STATUS CHANGED FROM \"E\" TO \"D\"                         0000000                                                                                                                                                                     ',\n",
       " '2400411/12/2003 A PROJECT EXT/NO TEST WAS GRANTED, EXPIRING ON 02/12/2004  0000000                                                                                                                                                                     ',\n",
       " '2400501/29/2004 A PROJECT EXT/NO TEST WAS GRANTED, EXPIRING ON 04/29/2004  0000000                                                                                                                                                                     ',\n",
       " '2400604/22/2004 A PROJECT EXT/NO TEST WAS GRANTED, EXPIRING ON 07/22/2004  0000000                                                                                                                                                                     ',\n",
       " '2400707/22/2004 H15 STATUS CHANGED FROM \"E\" TO \"D\"                         0000000                                                                                                                                                                     ',\n",
       " '2400804/19/2011 PENDING - REFER TO DISTRICT                                0000000                                                                                                                                                                     ',\n",
       " '24009ON 04/21/2011 AN H-15 WAS   APPROVED   BY OGFKMTB  FROM DISTRICT 06   0000000                                                                                                                                                                     ',\n",
       " '2379989394D2248300000000616481001 00000000YO04411   1  000000000000000000000000000   00                    20011212  2001060520011212E  0000000000000000                                                                                               ',\n",
       " '24001ON 06/05/2001 AN EXTENSION WAS GIVEN THAT WILL EXPIRE ON 08/04/2001   0000000                                                                                                                                                                     ',\n",
       " '2400208/06/2001 H15 STATUS CHANGED FROM \"E\" TO \"D\"                         0000000                                                                                                                                                                     ',\n",
       " '2400309/12/2001 A PROJECT EXT/NO TEST WAS GRANTED, EXPIRING ON 12/12/2001  0000000                                                                                                                                                                     ',\n",
       " '2400412/12/2001 H15 STATUS CHANGED FROM \"E\" TO \"D\"                         0000000                                                                                                                                                                     ',\n",
       " '2380009879A2248302001050616481001C19631027 O04411   1  00000019990515000600F000900S  00                    19990527  1999052700000000  Y0000000000000000                                                                                               ',\n",
       " '2400105/27/1999 APPROVED                                                   0000000                                                                                                                                                                     ',\n",
       " '2380019887A2248301999050616481001C19631027 O04411   1  00000019980305000600F000980S  00                    19980312  1998031200000000  00000000000000000                                                                                               ',\n",
       " '2400103/12/1998 APPROVED                                                   0000000                                                                                                                                                                     ',\n",
       " '2380029775A2248301998050616481001C19631027 O04411   1  00000019970721000600F000980S  00                    19970730  1997073019970707D 00000000000000000                                                                                               ']"
      ]
     },
     "execution_count": 3,
     "metadata": {},
     "output_type": "execute_result"
    }
   ],
   "source": [
    "split_records[:50]"
   ]
  },
  {
   "cell_type": "markdown",
   "metadata": {},
   "source": [
    "### from dbf900_layouts import dbf900_layout\n",
    "dbf900_layouts.py may require changes to the definitions to ensure correct formatting for each field\n",
    "(e.g. original definition has API as numeric, but needs to be string to preserve leading zeros)<br>\n",
    "Definitions from https://www.rrc.texas.gov/media/41906/wba091_well-bore-database.pdf <br><br>\n",
    ".py file can be found here: https://github.com/mlbelobraydi/TXRRC_data_harvest/blob/master/dbf900_layouts.py"
   ]
  },
  {
   "cell_type": "markdown",
   "metadata": {},
   "source": [
    "### from dbf900_main import parse_record\n",
    "This calls the formatting calls from dbf900_formats.py using:<br> \"from dbf900_formats import pic_yyyymmdd, pic_yyyymm, pic_latlong, pic_coord, pic_numeric, pic_any\" <br><br>\n",
    ".py file with parse_record def: https://github.com/mlbelobraydi/TXRRC_data_harvest/blob/master/dbf900_main.py <br><br>\n",
    ".py file with format defs: https://github.com/mlbelobraydi/TXRRC_data_harvest/blob/master/dbf900_formats.py"
   ]
  },
  {
   "cell_type": "markdown",
   "metadata": {},
   "source": [
    "## Working section to play with read data from each record\n",
    "\n",
    "Currently (2020-07-30) working through the formatting coming from the definitions. ensuring that the date are formatted correctly along with the alignment of the fields. "
   ]
  },
  {
   "cell_type": "code",
   "execution_count": 5,
   "metadata": {},
   "outputs": [
    {
     "name": "stdout",
     "output_type": "stream",
     "text": [
      "0 4200100001 {'RRC-TAPE-RECORD-ID': '01', 'WELL-BORE-API-ROOT': '00100001', 'WB-NXT-AVAIL-SUFFIX': '01', 'WB-NXT-AVAIL-HOLE-CHGE-NBR': '01', 'WB-FIELD-DISTRICT': '06', 'WB-RES-CNTY-CODE': '001', 'WB-ORIG-COMPL-DATE': '10/27/1963', 'WB-TOTAL-DEPTH': 0, 'WB-VALID-FLUID-LEVEL': 0, 'WB-CERTIFICATION-REVOKED-DATE': None, 'WB-CERTIFICATION-DENIAL-DATE': None, 'WB-DENIAL-REASON-FLAG': '0', 'WB-ERROR-API-ASSIGN-CODE': '', 'WB-REFER-CORRECT-API-NBR': '00000000', 'WB-DUMMY-API-NUMBER': '00100001', 'WB-DATE-DUMMY-REPLACED': None, 'WB-NEWEST-DRL-PMT-NBR': 0, 'WB-CANCEL-EXPIRE-CODE': '', 'WB-EXCEPT-13-A': 'N', 'WB-FRESH-WATER-FLAG': 'N', 'WB-PLUG-FLAG': 'N', 'WB-PREVIOUS-API-NBR': '00000000', 'WB-COMPLETION-DATA-IND': 'Y', 'WB-HIST-DATE-SOURCE-FLAG': 0, 'WB-EX14B2-COUNT': 13, 'WB-DESIGNATION-HB-1975-FLAG': 'A', 'WB-DESIGNATION-EFFECTIVE-DATE': '09/01/1993', 'WB-DESIGNATION-REVISED-DATE': None, 'WB-DESIGNATION-LETTER-DATE': '10/22/1993', 'WB-CERTIFICATION-EFFECT-DATE': '02/01/1996', 'WB-WATER-LAND-CODE': 'L', 'WB-TOTAL-BONDED-DEPTH': 4023, 'WB-OVERRIDE-EST-PLUG-COST': 0, 'WB-SHUT-IN-DATE': '01/01/1998', 'WB-OVERRIDE-BONDED-DEPTH': 0, 'WB-SUBJ-TO-14B2-FLAG': 'Y', 'WB-PEND-REMOVAL-14B2-FLAG': '', 'WB-ORPHAN-WELL-HOLD-FLAG': '0', 'WB-W3X-WELL-FLAG': '0'}\n",
      "0100100001010106001 19631027000000000000000000000000000 000000000010000100000000000000  NNN00000000Y0 13A19930900000019931022199602L0040230000000199801000000Y 00000000                                                                                \n",
      "--------------------------------------\n",
      "66 4200100008 {'RRC-TAPE-RECORD-ID': '01', 'WELL-BORE-API-ROOT': '00100008', 'WB-NXT-AVAIL-SUFFIX': '01', 'WB-NXT-AVAIL-HOLE-CHGE-NBR': '01', 'WB-FIELD-DISTRICT': '06', 'WB-RES-CNTY-CODE': '001', 'WB-ORIG-COMPL-DATE': None, 'WB-TOTAL-DEPTH': 0, 'WB-VALID-FLUID-LEVEL': 0, 'WB-CERTIFICATION-REVOKED-DATE': None, 'WB-CERTIFICATION-DENIAL-DATE': None, 'WB-DENIAL-REASON-FLAG': '0', 'WB-ERROR-API-ASSIGN-CODE': '', 'WB-REFER-CORRECT-API-NBR': '00000000', 'WB-DUMMY-API-NUMBER': '00100008', 'WB-DATE-DUMMY-REPLACED': None, 'WB-NEWEST-DRL-PMT-NBR': 0, 'WB-CANCEL-EXPIRE-CODE': '', 'WB-EXCEPT-13-A': 'N', 'WB-FRESH-WATER-FLAG': 'N', 'WB-PLUG-FLAG': 'Y', 'WB-PREVIOUS-API-NBR': '00000000', 'WB-COMPLETION-DATA-IND': 'Y', 'WB-HIST-DATE-SOURCE-FLAG': 0, 'WB-EX14B2-COUNT': 0, 'WB-DESIGNATION-HB-1975-FLAG': '0', 'WB-DESIGNATION-EFFECTIVE-DATE': None, 'WB-DESIGNATION-REVISED-DATE': None, 'WB-DESIGNATION-LETTER-DATE': None, 'WB-CERTIFICATION-EFFECT-DATE': None, 'WB-WATER-LAND-CODE': 'L', 'WB-TOTAL-BONDED-DEPTH': 7420, 'WB-OVERRIDE-EST-PLUG-COST': 0, 'WB-SHUT-IN-DATE': None, 'WB-OVERRIDE-BONDED-DEPTH': 0, 'WB-SUBJ-TO-14B2-FLAG': '', 'WB-PEND-REMOVAL-14B2-FLAG': '', 'WB-ORPHAN-WELL-HOLD-FLAG': '0', 'WB-W3X-WELL-FLAG': '0'}\n",
      "0100100008010106001 19500500000000000000000000000000000 000000000010000800000000000000  NNY00000000Y0 00000000000000000000000000000L0074200000000000000000000  00000000                                                                                \n",
      "--------------------------------------\n",
      "81 4200100037 {'RRC-TAPE-RECORD-ID': '01', 'WELL-BORE-API-ROOT': '00100037', 'WB-NXT-AVAIL-SUFFIX': '01', 'WB-NXT-AVAIL-HOLE-CHGE-NBR': '01', 'WB-FIELD-DISTRICT': '06', 'WB-RES-CNTY-CODE': '001', 'WB-ORIG-COMPL-DATE': None, 'WB-TOTAL-DEPTH': 6020, 'WB-VALID-FLUID-LEVEL': 0, 'WB-CERTIFICATION-REVOKED-DATE': None, 'WB-CERTIFICATION-DENIAL-DATE': None, 'WB-DENIAL-REASON-FLAG': '0', 'WB-ERROR-API-ASSIGN-CODE': '', 'WB-REFER-CORRECT-API-NBR': '00000000', 'WB-DUMMY-API-NUMBER': '00100037', 'WB-DATE-DUMMY-REPLACED': None, 'WB-NEWEST-DRL-PMT-NBR': 0, 'WB-CANCEL-EXPIRE-CODE': '', 'WB-EXCEPT-13-A': 'N', 'WB-FRESH-WATER-FLAG': 'N', 'WB-PLUG-FLAG': 'Y', 'WB-PREVIOUS-API-NBR': '00180394', 'WB-COMPLETION-DATA-IND': 'Y', 'WB-HIST-DATE-SOURCE-FLAG': 0, 'WB-EX14B2-COUNT': 3, 'WB-DESIGNATION-HB-1975-FLAG': '', 'WB-DESIGNATION-EFFECTIVE-DATE': None, 'WB-DESIGNATION-REVISED-DATE': None, 'WB-DESIGNATION-LETTER-DATE': None, 'WB-CERTIFICATION-EFFECT-DATE': None, 'WB-WATER-LAND-CODE': 'L', 'WB-TOTAL-BONDED-DEPTH': 6020, 'WB-OVERRIDE-EST-PLUG-COST': 0, 'WB-SHUT-IN-DATE': None, 'WB-OVERRIDE-BONDED-DEPTH': 0, 'WB-SUBJ-TO-14B2-FLAG': '0', 'WB-PEND-REMOVAL-14B2-FLAG': 'N', 'WB-ORPHAN-WELL-HOLD-FLAG': '0', 'WB-W3X-WELL-FLAG': '0'}\n",
      "0100100037010106001 0000000006020000000000000000000000  000000000010003700000000000000  NNY00180394Y0 03 00000000000000000000000000L00602000000000000000000000N00000000                                                                                \n",
      "--------------------------------------\n",
      "115 4200100038 {'RRC-TAPE-RECORD-ID': '01', 'WELL-BORE-API-ROOT': '00100038', 'WB-NXT-AVAIL-SUFFIX': '00', 'WB-NXT-AVAIL-HOLE-CHGE-NBR': '00', 'WB-FIELD-DISTRICT': '00', 'WB-RES-CNTY-CODE': '001', 'WB-ORIG-COMPL-DATE': None, 'WB-TOTAL-DEPTH': 0, 'WB-VALID-FLUID-LEVEL': 0, 'WB-CERTIFICATION-REVOKED-DATE': None, 'WB-CERTIFICATION-DENIAL-DATE': None, 'WB-DENIAL-REASON-FLAG': '0', 'WB-ERROR-API-ASSIGN-CODE': '', 'WB-REFER-CORRECT-API-NBR': '00000000', 'WB-DUMMY-API-NUMBER': '00100038', 'WB-DATE-DUMMY-REPLACED': None, 'WB-NEWEST-DRL-PMT-NBR': 0, 'WB-CANCEL-EXPIRE-CODE': '', 'WB-EXCEPT-13-A': 'N', 'WB-FRESH-WATER-FLAG': 'N', 'WB-PLUG-FLAG': 'Y', 'WB-PREVIOUS-API-NBR': '00000000', 'WB-COMPLETION-DATA-IND': 'N', 'WB-HIST-DATE-SOURCE-FLAG': 0, 'WB-EX14B2-COUNT': 0, 'WB-DESIGNATION-HB-1975-FLAG': '0', 'WB-DESIGNATION-EFFECTIVE-DATE': None, 'WB-DESIGNATION-REVISED-DATE': None, 'WB-DESIGNATION-LETTER-DATE': None, 'WB-CERTIFICATION-EFFECT-DATE': None, 'WB-WATER-LAND-CODE': 'L', 'WB-TOTAL-BONDED-DEPTH': 0, 'WB-OVERRIDE-EST-PLUG-COST': 0, 'WB-SHUT-IN-DATE': None, 'WB-OVERRIDE-BONDED-DEPTH': 0, 'WB-SUBJ-TO-14B2-FLAG': '0', 'WB-PEND-REMOVAL-14B2-FLAG': '0', 'WB-ORPHAN-WELL-HOLD-FLAG': '0', 'WB-W3X-WELL-FLAG': '0'}\n",
      "0100100038000000001 0000000000000000000000000000000000  000000000010003800000000000000  NNY00000000N0 00000000000000000000000000000L00000000000000000000000000000000000                                                                                \n",
      "--------------------------------------\n",
      "128 4200100039 {'RRC-TAPE-RECORD-ID': '01', 'WELL-BORE-API-ROOT': '00100039', 'WB-NXT-AVAIL-SUFFIX': '00', 'WB-NXT-AVAIL-HOLE-CHGE-NBR': '00', 'WB-FIELD-DISTRICT': '00', 'WB-RES-CNTY-CODE': '001', 'WB-ORIG-COMPL-DATE': None, 'WB-TOTAL-DEPTH': 0, 'WB-VALID-FLUID-LEVEL': 0, 'WB-CERTIFICATION-REVOKED-DATE': None, 'WB-CERTIFICATION-DENIAL-DATE': None, 'WB-DENIAL-REASON-FLAG': '0', 'WB-ERROR-API-ASSIGN-CODE': '', 'WB-REFER-CORRECT-API-NBR': '00000000', 'WB-DUMMY-API-NUMBER': '00100039', 'WB-DATE-DUMMY-REPLACED': None, 'WB-NEWEST-DRL-PMT-NBR': 0, 'WB-CANCEL-EXPIRE-CODE': '', 'WB-EXCEPT-13-A': 'N', 'WB-FRESH-WATER-FLAG': 'N', 'WB-PLUG-FLAG': 'Y', 'WB-PREVIOUS-API-NBR': '00000000', 'WB-COMPLETION-DATA-IND': 'Y', 'WB-HIST-DATE-SOURCE-FLAG': 0, 'WB-EX14B2-COUNT': 0, 'WB-DESIGNATION-HB-1975-FLAG': '0', 'WB-DESIGNATION-EFFECTIVE-DATE': None, 'WB-DESIGNATION-REVISED-DATE': None, 'WB-DESIGNATION-LETTER-DATE': None, 'WB-CERTIFICATION-EFFECT-DATE': None, 'WB-WATER-LAND-CODE': 'L', 'WB-TOTAL-BONDED-DEPTH': 0, 'WB-OVERRIDE-EST-PLUG-COST': 0, 'WB-SHUT-IN-DATE': None, 'WB-OVERRIDE-BONDED-DEPTH': 0, 'WB-SUBJ-TO-14B2-FLAG': '0', 'WB-PEND-REMOVAL-14B2-FLAG': '0', 'WB-ORPHAN-WELL-HOLD-FLAG': '0', 'WB-W3X-WELL-FLAG': '0'}\n",
      "0100100039000000001 0000000000000000000000000000000000  000000000010003900000000000000  NNY00000000Y0 00000000000000000000000000000L00000000000000000000000000000000000                                                                                \n",
      "--------------------------------------\n",
      "138 4200100040 {'RRC-TAPE-RECORD-ID': '01', 'WELL-BORE-API-ROOT': '00100040', 'WB-NXT-AVAIL-SUFFIX': '00', 'WB-NXT-AVAIL-HOLE-CHGE-NBR': '00', 'WB-FIELD-DISTRICT': '00', 'WB-RES-CNTY-CODE': '001', 'WB-ORIG-COMPL-DATE': None, 'WB-TOTAL-DEPTH': 0, 'WB-VALID-FLUID-LEVEL': 0, 'WB-CERTIFICATION-REVOKED-DATE': None, 'WB-CERTIFICATION-DENIAL-DATE': None, 'WB-DENIAL-REASON-FLAG': '0', 'WB-ERROR-API-ASSIGN-CODE': '', 'WB-REFER-CORRECT-API-NBR': '00000000', 'WB-DUMMY-API-NUMBER': '00100040', 'WB-DATE-DUMMY-REPLACED': None, 'WB-NEWEST-DRL-PMT-NBR': 0, 'WB-CANCEL-EXPIRE-CODE': '', 'WB-EXCEPT-13-A': 'N', 'WB-FRESH-WATER-FLAG': 'N', 'WB-PLUG-FLAG': 'Y', 'WB-PREVIOUS-API-NBR': '00000000', 'WB-COMPLETION-DATA-IND': 'Y', 'WB-HIST-DATE-SOURCE-FLAG': 0, 'WB-EX14B2-COUNT': 0, 'WB-DESIGNATION-HB-1975-FLAG': '0', 'WB-DESIGNATION-EFFECTIVE-DATE': None, 'WB-DESIGNATION-REVISED-DATE': None, 'WB-DESIGNATION-LETTER-DATE': None, 'WB-CERTIFICATION-EFFECT-DATE': None, 'WB-WATER-LAND-CODE': 'L', 'WB-TOTAL-BONDED-DEPTH': 0, 'WB-OVERRIDE-EST-PLUG-COST': 0, 'WB-SHUT-IN-DATE': None, 'WB-OVERRIDE-BONDED-DEPTH': 0, 'WB-SUBJ-TO-14B2-FLAG': '0', 'WB-PEND-REMOVAL-14B2-FLAG': '0', 'WB-ORPHAN-WELL-HOLD-FLAG': '0', 'WB-W3X-WELL-FLAG': '0'}\n",
      "0100100040000000001 0000000000000000000000000000000000  000000000010004000000000000000  NNY00000000Y0 00000000000000000000000000000L00000000000000000000000000000000000                                                                                \n",
      "--------------------------------------\n",
      "149 4200100041 {'RRC-TAPE-RECORD-ID': '01', 'WELL-BORE-API-ROOT': '00100041', 'WB-NXT-AVAIL-SUFFIX': '00', 'WB-NXT-AVAIL-HOLE-CHGE-NBR': '00', 'WB-FIELD-DISTRICT': '00', 'WB-RES-CNTY-CODE': '001', 'WB-ORIG-COMPL-DATE': None, 'WB-TOTAL-DEPTH': 0, 'WB-VALID-FLUID-LEVEL': 0, 'WB-CERTIFICATION-REVOKED-DATE': None, 'WB-CERTIFICATION-DENIAL-DATE': None, 'WB-DENIAL-REASON-FLAG': '0', 'WB-ERROR-API-ASSIGN-CODE': '', 'WB-REFER-CORRECT-API-NBR': '00000000', 'WB-DUMMY-API-NUMBER': '00100041', 'WB-DATE-DUMMY-REPLACED': None, 'WB-NEWEST-DRL-PMT-NBR': 0, 'WB-CANCEL-EXPIRE-CODE': '', 'WB-EXCEPT-13-A': 'N', 'WB-FRESH-WATER-FLAG': 'N', 'WB-PLUG-FLAG': 'Y', 'WB-PREVIOUS-API-NBR': '00000000', 'WB-COMPLETION-DATA-IND': 'Y', 'WB-HIST-DATE-SOURCE-FLAG': 0, 'WB-EX14B2-COUNT': 0, 'WB-DESIGNATION-HB-1975-FLAG': '0', 'WB-DESIGNATION-EFFECTIVE-DATE': None, 'WB-DESIGNATION-REVISED-DATE': None, 'WB-DESIGNATION-LETTER-DATE': None, 'WB-CERTIFICATION-EFFECT-DATE': None, 'WB-WATER-LAND-CODE': 'L', 'WB-TOTAL-BONDED-DEPTH': 0, 'WB-OVERRIDE-EST-PLUG-COST': 0, 'WB-SHUT-IN-DATE': None, 'WB-OVERRIDE-BONDED-DEPTH': 0, 'WB-SUBJ-TO-14B2-FLAG': '0', 'WB-PEND-REMOVAL-14B2-FLAG': '0', 'WB-ORPHAN-WELL-HOLD-FLAG': '0', 'WB-W3X-WELL-FLAG': '0'}\n",
      "0100100041000000001 0000000000000000000000000000000000  000000000010004100000000000000  NNY00000000Y0 00000000000000000000000000000L00000000000000000000000000000000000                                                                                \n",
      "--------------------------------------\n",
      "160 4200100043 {'RRC-TAPE-RECORD-ID': '01', 'WELL-BORE-API-ROOT': '00100043', 'WB-NXT-AVAIL-SUFFIX': '01', 'WB-NXT-AVAIL-HOLE-CHGE-NBR': '01', 'WB-FIELD-DISTRICT': '06', 'WB-RES-CNTY-CODE': '001', 'WB-ORIG-COMPL-DATE': '01/01/1963', 'WB-TOTAL-DEPTH': 0, 'WB-VALID-FLUID-LEVEL': 0, 'WB-CERTIFICATION-REVOKED-DATE': None, 'WB-CERTIFICATION-DENIAL-DATE': None, 'WB-DENIAL-REASON-FLAG': '0', 'WB-ERROR-API-ASSIGN-CODE': '', 'WB-REFER-CORRECT-API-NBR': '00000000', 'WB-DUMMY-API-NUMBER': '00100043', 'WB-DATE-DUMMY-REPLACED': None, 'WB-NEWEST-DRL-PMT-NBR': 0, 'WB-CANCEL-EXPIRE-CODE': '', 'WB-EXCEPT-13-A': 'N', 'WB-FRESH-WATER-FLAG': 'N', 'WB-PLUG-FLAG': 'N', 'WB-PREVIOUS-API-NBR': '00000000', 'WB-COMPLETION-DATA-IND': 'Y', 'WB-HIST-DATE-SOURCE-FLAG': 0, 'WB-EX14B2-COUNT': 0, 'WB-DESIGNATION-HB-1975-FLAG': '0', 'WB-DESIGNATION-EFFECTIVE-DATE': None, 'WB-DESIGNATION-REVISED-DATE': None, 'WB-DESIGNATION-LETTER-DATE': None, 'WB-CERTIFICATION-EFFECT-DATE': None, 'WB-WATER-LAND-CODE': 'L', 'WB-TOTAL-BONDED-DEPTH': 7506, 'WB-OVERRIDE-EST-PLUG-COST': 0, 'WB-SHUT-IN-DATE': None, 'WB-OVERRIDE-BONDED-DEPTH': 0, 'WB-SUBJ-TO-14B2-FLAG': '', 'WB-PEND-REMOVAL-14B2-FLAG': '', 'WB-ORPHAN-WELL-HOLD-FLAG': '0', 'WB-W3X-WELL-FLAG': '0'}\n",
      "0100100043010106001 19630101000000000000000000000000000 000000000010004300000000000000  NNN00000000Y0 00000000000000000000000000000L0075060000000000000000000  00000000                                                                                \n",
      "--------------------------------------\n",
      "166 4200100045 {'RRC-TAPE-RECORD-ID': '01', 'WELL-BORE-API-ROOT': '00100045', 'WB-NXT-AVAIL-SUFFIX': '01', 'WB-NXT-AVAIL-HOLE-CHGE-NBR': '01', 'WB-FIELD-DISTRICT': '06', 'WB-RES-CNTY-CODE': '001', 'WB-ORIG-COMPL-DATE': '11/14/1935', 'WB-TOTAL-DEPTH': 4089, 'WB-VALID-FLUID-LEVEL': 0, 'WB-CERTIFICATION-REVOKED-DATE': None, 'WB-CERTIFICATION-DENIAL-DATE': None, 'WB-DENIAL-REASON-FLAG': '0', 'WB-ERROR-API-ASSIGN-CODE': '', 'WB-REFER-CORRECT-API-NBR': '00000000', 'WB-DUMMY-API-NUMBER': '00100045', 'WB-DATE-DUMMY-REPLACED': None, 'WB-NEWEST-DRL-PMT-NBR': 0, 'WB-CANCEL-EXPIRE-CODE': '', 'WB-EXCEPT-13-A': 'N', 'WB-FRESH-WATER-FLAG': 'N', 'WB-PLUG-FLAG': 'N', 'WB-PREVIOUS-API-NBR': '00180065', 'WB-COMPLETION-DATA-IND': 'Y', 'WB-HIST-DATE-SOURCE-FLAG': 0, 'WB-EX14B2-COUNT': 0, 'WB-DESIGNATION-HB-1975-FLAG': 'A', 'WB-DESIGNATION-EFFECTIVE-DATE': '03/01/1994', 'WB-DESIGNATION-REVISED-DATE': None, 'WB-DESIGNATION-LETTER-DATE': '04/26/1994', 'WB-CERTIFICATION-EFFECT-DATE': '07/01/1994', 'WB-WATER-LAND-CODE': 'L', 'WB-TOTAL-BONDED-DEPTH': 4089, 'WB-OVERRIDE-EST-PLUG-COST': 0, 'WB-SHUT-IN-DATE': '10/01/2019', 'WB-OVERRIDE-BONDED-DEPTH': 0, 'WB-SUBJ-TO-14B2-FLAG': 'N', 'WB-PEND-REMOVAL-14B2-FLAG': 'N', 'WB-ORPHAN-WELL-HOLD-FLAG': '0', 'WB-W3X-WELL-FLAG': '0'}\n",
      "0100100045010106001 19351114040890000000000000000000000 000000000010004500000000000000  NNN00180065Y0 00A19940300000019940426199407L0040890000000201910000000NN00000000                                                                                \n",
      "--------------------------------------\n",
      "190 4200100046 {'RRC-TAPE-RECORD-ID': '01', 'WELL-BORE-API-ROOT': '00100046', 'WB-NXT-AVAIL-SUFFIX': '01', 'WB-NXT-AVAIL-HOLE-CHGE-NBR': '01', 'WB-FIELD-DISTRICT': '06', 'WB-RES-CNTY-CODE': '001', 'WB-ORIG-COMPL-DATE': '01/12/1984', 'WB-TOTAL-DEPTH': 4063, 'WB-VALID-FLUID-LEVEL': 0, 'WB-CERTIFICATION-REVOKED-DATE': None, 'WB-CERTIFICATION-DENIAL-DATE': None, 'WB-DENIAL-REASON-FLAG': '0', 'WB-ERROR-API-ASSIGN-CODE': '', 'WB-REFER-CORRECT-API-NBR': '00000000', 'WB-DUMMY-API-NUMBER': '00100046', 'WB-DATE-DUMMY-REPLACED': None, 'WB-NEWEST-DRL-PMT-NBR': 0, 'WB-CANCEL-EXPIRE-CODE': '', 'WB-EXCEPT-13-A': 'N', 'WB-FRESH-WATER-FLAG': 'N', 'WB-PLUG-FLAG': 'N', 'WB-PREVIOUS-API-NBR': '00000000', 'WB-COMPLETION-DATA-IND': 'Y', 'WB-HIST-DATE-SOURCE-FLAG': 0, 'WB-EX14B2-COUNT': 0, 'WB-DESIGNATION-HB-1975-FLAG': 'A', 'WB-DESIGNATION-EFFECTIVE-DATE': '03/01/1994', 'WB-DESIGNATION-REVISED-DATE': None, 'WB-DESIGNATION-LETTER-DATE': '04/26/1994', 'WB-CERTIFICATION-EFFECT-DATE': '07/01/1994', 'WB-WATER-LAND-CODE': 'L', 'WB-TOTAL-BONDED-DEPTH': 4063, 'WB-OVERRIDE-EST-PLUG-COST': 0, 'WB-SHUT-IN-DATE': '09/01/2019', 'WB-OVERRIDE-BONDED-DEPTH': 0, 'WB-SUBJ-TO-14B2-FLAG': 'N', 'WB-PEND-REMOVAL-14B2-FLAG': 'N', 'WB-ORPHAN-WELL-HOLD-FLAG': '0', 'WB-W3X-WELL-FLAG': 'N'}\n",
      "010010004601010600121984011204063000000000000000000000A 000000000010004600000000000000  NNN00000000Y0 00A19940300000019940426199407L0040630000000201909000000NN0N000000                                                                                \n",
      "--------------------------------------\n"
     ]
    }
   ],
   "source": [
    "API = None\n",
    "api_check = None\n",
    "ct = 0\n",
    "check = 0\n",
    "\n",
    "sample_records = split_records#[35000:75000] ## Used for testing to reduce number of records to run\n",
    "\n",
    "##The following loops are for testing different things and exploring the formatting.\n",
    "##Everything past this point is subject to change.\n",
    "while check <10:\n",
    "#while api_check == API: ##Set to pull all records associated with the first API\n",
    "    record = sample_records[ct]\n",
    "    \n",
    "    if not API:\n",
    "        api_check = '42'+record[2:10]\n",
    "    \n",
    "    if record.startswith('01'):\n",
    "        API = '42'+record[2:10]\n",
    "\n",
    "    startval = str(record[0:2])\n",
    "    layout = dbf900_layout(startval)['layout']\n",
    "    parsed_vals = parse_record(record, layout)\n",
    "\n",
    "\n",
    "\n",
    "    if startval =='01': ##currently reviewing results vs. original record. Use 01 through 28 to check results.\n",
    "        check+=1\n",
    "        print(ct, API, parsed_vals)\n",
    "        print(record)\n",
    "        print('--------------------------------------')\n",
    "    ct+=1"
   ]
  },
  {
   "cell_type": "code",
   "execution_count": null,
   "metadata": {},
   "outputs": [],
   "source": []
  }
 ],
 "metadata": {
  "kernelspec": {
   "display_name": "Python 3",
   "language": "python",
   "name": "python3"
  },
  "language_info": {
   "codemirror_mode": {
    "name": "ipython",
    "version": 3
   },
   "file_extension": ".py",
   "mimetype": "text/x-python",
   "name": "python",
   "nbconvert_exporter": "python",
   "pygments_lexer": "ipython3",
   "version": "3.7.6"
  }
 },
 "nbformat": 4,
 "nbformat_minor": 4
}
